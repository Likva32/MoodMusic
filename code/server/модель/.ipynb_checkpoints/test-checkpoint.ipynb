{
 "cells": [
  {
   "cell_type": "code",
   "execution_count": 16,
   "id": "babef1e0",
   "metadata": {},
   "outputs": [],
   "source": [
    "from keras.utils import np_utils\n",
    "from keras.models import Sequential\n",
    "from keras.layers import Dense, Dropout, Flatten\n",
    "from keras.layers import Conv2D, MaxPooling2D\n",
    "from keras.optimizers import Adam\n",
    "from keras.preprocessing.image import ImageDataGenerator\n",
    "from keras.callbacks import ModelCheckpoint\n",
    "import matplotlib.pyplot as plt\n",
    "import numpy as np\n",
    "import pandas as pd"
   ]
  },
  {
   "cell_type": "markdown",
   "id": "1e506900",
   "metadata": {},
   "source": [
    "### Load the FER2013 dataset\n"
   ]
  },
  {
   "cell_type": "code",
   "execution_count": 2,
   "id": "efe801c9",
   "metadata": {
    "scrolled": true
   },
   "outputs": [
    {
     "data": {
      "text/html": [
       "<div>\n",
       "<style scoped>\n",
       "    .dataframe tbody tr th:only-of-type {\n",
       "        vertical-align: middle;\n",
       "    }\n",
       "\n",
       "    .dataframe tbody tr th {\n",
       "        vertical-align: top;\n",
       "    }\n",
       "\n",
       "    .dataframe thead th {\n",
       "        text-align: right;\n",
       "    }\n",
       "</style>\n",
       "<table border=\"1\" class=\"dataframe\">\n",
       "  <thead>\n",
       "    <tr style=\"text-align: right;\">\n",
       "      <th></th>\n",
       "      <th>emotion</th>\n",
       "      <th>pixels</th>\n",
       "      <th>Usage</th>\n",
       "    </tr>\n",
       "  </thead>\n",
       "  <tbody>\n",
       "    <tr>\n",
       "      <th>0</th>\n",
       "      <td>0</td>\n",
       "      <td>70 80 82 72 58 58 60 63 54 58 60 48 89 115 121...</td>\n",
       "      <td>Training</td>\n",
       "    </tr>\n",
       "    <tr>\n",
       "      <th>1</th>\n",
       "      <td>0</td>\n",
       "      <td>151 150 147 155 148 133 111 140 170 174 182 15...</td>\n",
       "      <td>Training</td>\n",
       "    </tr>\n",
       "    <tr>\n",
       "      <th>2</th>\n",
       "      <td>2</td>\n",
       "      <td>231 212 156 164 174 138 161 173 182 200 106 38...</td>\n",
       "      <td>Training</td>\n",
       "    </tr>\n",
       "    <tr>\n",
       "      <th>3</th>\n",
       "      <td>4</td>\n",
       "      <td>24 32 36 30 32 23 19 20 30 41 21 22 32 34 21 1...</td>\n",
       "      <td>Training</td>\n",
       "    </tr>\n",
       "    <tr>\n",
       "      <th>4</th>\n",
       "      <td>6</td>\n",
       "      <td>4 0 0 0 0 0 0 0 0 0 0 0 3 15 23 28 48 50 58 84...</td>\n",
       "      <td>Training</td>\n",
       "    </tr>\n",
       "    <tr>\n",
       "      <th>...</th>\n",
       "      <td>...</td>\n",
       "      <td>...</td>\n",
       "      <td>...</td>\n",
       "    </tr>\n",
       "    <tr>\n",
       "      <th>35882</th>\n",
       "      <td>6</td>\n",
       "      <td>50 36 17 22 23 29 33 39 34 37 37 37 39 43 48 5...</td>\n",
       "      <td>PrivateTest</td>\n",
       "    </tr>\n",
       "    <tr>\n",
       "      <th>35883</th>\n",
       "      <td>3</td>\n",
       "      <td>178 174 172 173 181 188 191 194 196 199 200 20...</td>\n",
       "      <td>PrivateTest</td>\n",
       "    </tr>\n",
       "    <tr>\n",
       "      <th>35884</th>\n",
       "      <td>0</td>\n",
       "      <td>17 17 16 23 28 22 19 17 25 26 20 24 31 19 27 9...</td>\n",
       "      <td>PrivateTest</td>\n",
       "    </tr>\n",
       "    <tr>\n",
       "      <th>35885</th>\n",
       "      <td>3</td>\n",
       "      <td>30 28 28 29 31 30 42 68 79 81 77 67 67 71 63 6...</td>\n",
       "      <td>PrivateTest</td>\n",
       "    </tr>\n",
       "    <tr>\n",
       "      <th>35886</th>\n",
       "      <td>2</td>\n",
       "      <td>19 13 14 12 13 16 21 33 50 57 71 84 97 108 122...</td>\n",
       "      <td>PrivateTest</td>\n",
       "    </tr>\n",
       "  </tbody>\n",
       "</table>\n",
       "<p>35887 rows × 3 columns</p>\n",
       "</div>"
      ],
      "text/plain": [
       "       emotion                                             pixels        Usage\n",
       "0            0  70 80 82 72 58 58 60 63 54 58 60 48 89 115 121...     Training\n",
       "1            0  151 150 147 155 148 133 111 140 170 174 182 15...     Training\n",
       "2            2  231 212 156 164 174 138 161 173 182 200 106 38...     Training\n",
       "3            4  24 32 36 30 32 23 19 20 30 41 21 22 32 34 21 1...     Training\n",
       "4            6  4 0 0 0 0 0 0 0 0 0 0 0 3 15 23 28 48 50 58 84...     Training\n",
       "...        ...                                                ...          ...\n",
       "35882        6  50 36 17 22 23 29 33 39 34 37 37 37 39 43 48 5...  PrivateTest\n",
       "35883        3  178 174 172 173 181 188 191 194 196 199 200 20...  PrivateTest\n",
       "35884        0  17 17 16 23 28 22 19 17 25 26 20 24 31 19 27 9...  PrivateTest\n",
       "35885        3  30 28 28 29 31 30 42 68 79 81 77 67 67 71 63 6...  PrivateTest\n",
       "35886        2  19 13 14 12 13 16 21 33 50 57 71 84 97 108 122...  PrivateTest\n",
       "\n",
       "[35887 rows x 3 columns]"
      ]
     },
     "execution_count": 2,
     "metadata": {},
     "output_type": "execute_result"
    }
   ],
   "source": [
    "data = pd.read_csv(\"fer2013.csv\")\n",
    "data"
   ]
  },
  {
   "cell_type": "markdown",
   "id": "49d2b61c",
   "metadata": {},
   "source": [
    "### Split the data into training, validation, and test sets"
   ]
  },
  {
   "cell_type": "code",
   "execution_count": 3,
   "id": "c42bfb88",
   "metadata": {},
   "outputs": [],
   "source": [
    "train_data = data[data.Usage == \"Training\"]\n",
    "validation_data = data[data.Usage == \"PublicTest\"]\n",
    "test_data = data[data.Usage == \"PrivateTest\"]"
   ]
  },
  {
   "cell_type": "markdown",
   "id": "54fc0229",
   "metadata": {},
   "source": [
    "### Convert the data to numpy arrays"
   ]
  },
  {
   "cell_type": "code",
   "execution_count": 4,
   "id": "b5ae7291",
   "metadata": {},
   "outputs": [],
   "source": [
    "x_train = np.array([np.fromstring(image, np.uint8, sep=' ') for image in train_data.pixels])\n",
    "y_train = np.array(train_data.emotion)\n",
    "x_val = np.array([np.fromstring(image, np.uint8, sep=' ') for image in validation_data.pixels])\n",
    "y_val = np.array(validation_data.emotion)\n",
    "x_test = np.array([np.fromstring(image, np.uint8, sep=' ') for image in test_data.pixels])\n",
    "y_test = np.array(test_data.emotion)"
   ]
  },
  {
   "cell_type": "markdown",
   "id": "feb555d0",
   "metadata": {},
   "source": [
    "### Reshape the data to 48x48 images"
   ]
  },
  {
   "cell_type": "code",
   "execution_count": 5,
   "id": "0881927a",
   "metadata": {},
   "outputs": [],
   "source": [
    "x_train = x_train.reshape(x_train.shape[0], 48, 48, 1)\n",
    "x_val = x_val.reshape(x_val.shape[0], 48, 48, 1)\n",
    "x_test = x_test.reshape(x_test.shape[0], 48, 48, 1)"
   ]
  },
  {
   "cell_type": "markdown",
   "id": "a29c1063",
   "metadata": {},
   "source": [
    "### Normalize the data"
   ]
  },
  {
   "cell_type": "code",
   "execution_count": 7,
   "id": "f55fab50",
   "metadata": {},
   "outputs": [],
   "source": [
    "x_train = x_train.astype('float32') / 255\n",
    "x_val = x_val.astype('float32') / 255\n",
    "x_test = x_test.astype('float32') / 255"
   ]
  },
  {
   "cell_type": "markdown",
   "id": "876b2be4",
   "metadata": {},
   "source": [
    "### One-hot encode the labels"
   ]
  },
  {
   "cell_type": "code",
   "execution_count": 8,
   "id": "f8440f16",
   "metadata": {},
   "outputs": [],
   "source": [
    "num_classes = 7\n",
    "y_train = np_utils.to_categorical(y_train, num_classes)\n",
    "y_val = np_utils.to_categorical(y_val, num_classes)\n",
    "y_test = np_utils.to_categorical(y_test, num_classes)"
   ]
  },
  {
   "cell_type": "markdown",
   "id": "e43d7f15",
   "metadata": {},
   "source": [
    "### Data augmentation"
   ]
  },
  {
   "cell_type": "code",
   "execution_count": 11,
   "id": "0f35afeb",
   "metadata": {},
   "outputs": [],
   "source": [
    "data_gen = ImageDataGenerator(rotation_range=10, zoom_range=0.1, width_shift_range=0.1,\n",
    "                              height_shift_range=0.1, horizontal_flip=True, fill_mode='nearest')\n",
    "data_gen.fit(x_train)"
   ]
  },
  {
   "cell_type": "markdown",
   "id": "6ed734e8",
   "metadata": {},
   "source": [
    "### Define the model"
   ]
  },
  {
   "cell_type": "code",
   "execution_count": 12,
   "id": "9e7ffa04",
   "metadata": {},
   "outputs": [],
   "source": [
    "# Define the model\n",
    "model = Sequential()\n",
    "model.add(Conv2D(32, kernel_size=(3, 3), activation='relu', input_shape=(48, 48, 1)))\n",
    "model.add(MaxPooling2D(pool_size=(2, 2)))\n",
    "model.add(Dropout(0.25))\n",
    "model.add(Conv2D(64, kernel_size=(3, 3), activation='relu'))\n",
    "model.add(MaxPooling2D(pool_size=(2, 2)))\n",
    "model.add(Dropout(0.25))\n",
    "model.add(Flatten())\n",
    "model.add(Dense(256, activation='relu'))\n",
    "model.add(Dropout(0.5))\n",
    "model.add(Dense(num_classes, activation='softmax'))\n"
   ]
  },
  {
   "cell_type": "markdown",
   "id": "e060018a",
   "metadata": {},
   "source": [
    "### Compile the model"
   ]
  },
  {
   "cell_type": "code",
   "execution_count": 13,
   "id": "bc893c8f",
   "metadata": {},
   "outputs": [],
   "source": [
    "model.compile(loss='categorical_crossentropy', optimizer=Adam(), metrics=['accuracy'])"
   ]
  },
  {
   "cell_type": "markdown",
   "id": "216ab3ec",
   "metadata": {},
   "source": [
    "### Define a callback to save the best model"
   ]
  },
  {
   "cell_type": "code",
   "execution_count": 14,
   "id": "a6f0b9de",
   "metadata": {},
   "outputs": [],
   "source": [
    "checkpointer = ModelCheckpoint(filepath='model.h5', save_best_only=True)"
   ]
  },
  {
   "cell_type": "markdown",
   "id": "c68cc009",
   "metadata": {},
   "source": [
    "### Train the model"
   ]
  },
  {
   "cell_type": "code",
   "execution_count": 15,
   "id": "87264b9d",
   "metadata": {},
   "outputs": [
    {
     "name": "stdout",
     "output_type": "stream",
     "text": [
      "Epoch 1/20\n"
     ]
    },
    {
     "name": "stderr",
     "output_type": "stream",
     "text": [
      "C:\\TEMP\\ipykernel_10752\\2286910557.py:1: UserWarning: `Model.fit_generator` is deprecated and will be removed in a future version. Please use `Model.fit`, which supports generators.\n",
      "  model.fit_generator(data_gen.flow(x_train, y_train, batch_size=32), steps_per_epoch=len(x_train) / 32,\n"
     ]
    },
    {
     "name": "stdout",
     "output_type": "stream",
     "text": [
      "897/897 [==============================] - 23s 26ms/step - loss: 1.7770 - accuracy: 0.2676 - val_loss: 1.6594 - val_accuracy: 0.3494\n",
      "Epoch 2/20\n",
      "897/897 [==============================] - 24s 26ms/step - loss: 1.6880 - accuracy: 0.3215 - val_loss: 1.5667 - val_accuracy: 0.4188\n",
      "Epoch 3/20\n",
      "897/897 [==============================] - 24s 27ms/step - loss: 1.6198 - accuracy: 0.3640 - val_loss: 1.4354 - val_accuracy: 0.4397\n",
      "Epoch 4/20\n",
      "897/897 [==============================] - 26s 29ms/step - loss: 1.5713 - accuracy: 0.3882 - val_loss: 1.4200 - val_accuracy: 0.4667\n",
      "Epoch 5/20\n",
      "897/897 [==============================] - 25s 27ms/step - loss: 1.5393 - accuracy: 0.4035 - val_loss: 1.3566 - val_accuracy: 0.4748\n",
      "Epoch 6/20\n",
      "897/897 [==============================] - 25s 28ms/step - loss: 1.5201 - accuracy: 0.4085 - val_loss: 1.3645 - val_accuracy: 0.4759\n",
      "Epoch 7/20\n",
      "897/897 [==============================] - 25s 28ms/step - loss: 1.5058 - accuracy: 0.4159 - val_loss: 1.3379 - val_accuracy: 0.4937\n",
      "Epoch 8/20\n",
      "897/897 [==============================] - 25s 28ms/step - loss: 1.4905 - accuracy: 0.4210 - val_loss: 1.3213 - val_accuracy: 0.5001\n",
      "Epoch 9/20\n",
      "897/897 [==============================] - 25s 28ms/step - loss: 1.4806 - accuracy: 0.4301 - val_loss: 1.3035 - val_accuracy: 0.4987\n",
      "Epoch 10/20\n",
      "897/897 [==============================] - 23s 26ms/step - loss: 1.4580 - accuracy: 0.4363 - val_loss: 1.2902 - val_accuracy: 0.5018\n",
      "Epoch 11/20\n",
      "897/897 [==============================] - 24s 26ms/step - loss: 1.4524 - accuracy: 0.4387 - val_loss: 1.3086 - val_accuracy: 0.4940\n",
      "Epoch 12/20\n",
      "897/897 [==============================] - 24s 27ms/step - loss: 1.4442 - accuracy: 0.4420 - val_loss: 1.2748 - val_accuracy: 0.5149\n",
      "Epoch 13/20\n",
      "897/897 [==============================] - 24s 27ms/step - loss: 1.4387 - accuracy: 0.4450 - val_loss: 1.2865 - val_accuracy: 0.5018\n",
      "Epoch 14/20\n",
      "897/897 [==============================] - 23s 26ms/step - loss: 1.4251 - accuracy: 0.4521 - val_loss: 1.2588 - val_accuracy: 0.5302\n",
      "Epoch 15/20\n",
      "897/897 [==============================] - 23s 26ms/step - loss: 1.4229 - accuracy: 0.4532 - val_loss: 1.2600 - val_accuracy: 0.5143\n",
      "Epoch 16/20\n",
      "897/897 [==============================] - 24s 27ms/step - loss: 1.4168 - accuracy: 0.4532 - val_loss: 1.2424 - val_accuracy: 0.5336\n",
      "Epoch 17/20\n",
      "897/897 [==============================] - 24s 27ms/step - loss: 1.4057 - accuracy: 0.4623 - val_loss: 1.2342 - val_accuracy: 0.5341\n",
      "Epoch 18/20\n",
      "897/897 [==============================] - 25s 28ms/step - loss: 1.4063 - accuracy: 0.4630 - val_loss: 1.2429 - val_accuracy: 0.5319\n",
      "Epoch 19/20\n",
      "897/897 [==============================] - 25s 28ms/step - loss: 1.4049 - accuracy: 0.4616 - val_loss: 1.2355 - val_accuracy: 0.5283\n",
      "Epoch 20/20\n",
      "897/897 [==============================] - 25s 28ms/step - loss: 1.4002 - accuracy: 0.4619 - val_loss: 1.2546 - val_accuracy: 0.5255\n"
     ]
    },
    {
     "data": {
      "text/plain": [
       "<keras.callbacks.History at 0x1ac25a1f340>"
      ]
     },
     "execution_count": 15,
     "metadata": {},
     "output_type": "execute_result"
    }
   ],
   "source": [
    "model.fit_generator(data_gen.flow(x_train, y_train, batch_size=32), steps_per_epoch=len(x_train) / 32,\n",
    "                    epochs=20, validation_data=(x_val, y_val), callbacks=[checkpointer])"
   ]
  },
  {
   "cell_type": "markdown",
   "id": "b7ae196c",
   "metadata": {},
   "source": [
    "### Evaluate the model on the test set"
   ]
  },
  {
   "cell_type": "code",
   "execution_count": 17,
   "id": "6f12dbb3",
   "metadata": {},
   "outputs": [
    {
     "name": "stdout",
     "output_type": "stream",
     "text": [
      "Test loss: 1.2286701202392578\n",
      "Test accuracy: 0.5319030284881592\n"
     ]
    }
   ],
   "source": [
    "score = model.evaluate(x_test, y_test, verbose=0)\n",
    "print('Test loss:', score[0])\n",
    "print('Test accuracy:', score[1])"
   ]
  },
  {
   "cell_type": "markdown",
   "id": "3761c03d",
   "metadata": {},
   "source": [
    "### Select a few images from the test set"
   ]
  },
  {
   "cell_type": "code",
   "execution_count": 18,
   "id": "445b3a1f",
   "metadata": {},
   "outputs": [],
   "source": [
    "num_images = 5\n",
    "random_indices = np.random.randint(x_test.shape[0], size=num_images)\n",
    "test_images = x_test[random_indices]\n",
    "test_labels = y_test[random_indices]"
   ]
  },
  {
   "cell_type": "markdown",
   "id": "c92b2bfc",
   "metadata": {},
   "source": [
    "### Use the model to predict the emotions for the selected images"
   ]
  },
  {
   "cell_type": "code",
   "execution_count": 19,
   "id": "2051e2cb",
   "metadata": {},
   "outputs": [
    {
     "name": "stdout",
     "output_type": "stream",
     "text": [
      "1/1 [==============================] - 0s 62ms/step\n"
     ]
    }
   ],
   "source": [
    "predictions = model.predict(test_images)\n",
    "predicted_labels = np.argmax(predictions, axis=1)"
   ]
  },
  {
   "cell_type": "markdown",
   "id": "284d5df6",
   "metadata": {},
   "source": [
    "### Display the images and the predicted emotions"
   ]
  },
  {
   "cell_type": "code",
   "execution_count": 21,
   "id": "17960beb",
   "metadata": {},
   "outputs": [
    {
     "data": {
      "image/png": "[encoded data removed]",
      "text/plain": [
       "<Figure size 2000x2000 with 5 Axes>"
      ]
     },
     "metadata": {},
     "output_type": "display_data"
    }
   ],
   "source": [
    "emotion_labels = {\n",
    "    0: 'Angry',\n",
    "    1: 'Disgust',\n",
    "    2: 'Fear',\n",
    "    3: 'Happy',\n",
    "    4: 'Sad',\n",
    "    5: 'Surprise',\n",
    "    6: 'Neutral'\n",
    "}\n",
    "\n",
    "fig, axes = plt.subplots(1, num_images, figsize=(20, 20))\n",
    "for i in range(num_images):\n",
    "    ax = axes[i]\n",
    "    ax.imshow(test_images[i, :, :, 0], cmap='pink')\n",
    "    ax.axis('off')\n",
    "    ax.set_title(emotion_labels[predicted_labels[i]])\n",
    "plt.show()"
   ]
  },
  {
   "cell_type": "code",
   "execution_count": null,
   "id": "79028c29",
   "metadata": {},
   "outputs": [],
   "source": []
  }
 ],
 "metadata": {
  "kernelspec": {
   "display_name": "Python 3 (ipykernel)",
   "language": "python",
   "name": "python3"
  },
  "language_info": {
   "codemirror_mode": {
    "name": "ipython",
    "version": 3
   },
   "file_extension": ".py",
   "mimetype": "text/x-python",
   "name": "python",
   "nbconvert_exporter": "python",
   "pygments_lexer": "ipython3",
   "version": "3.10.7"
  }
 },
 "nbformat": 4,
 "nbformat_minor": 5
}
